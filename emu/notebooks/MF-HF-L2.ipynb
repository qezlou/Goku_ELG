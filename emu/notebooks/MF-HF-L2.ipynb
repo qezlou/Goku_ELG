{
 "cells": [
  {
   "cell_type": "markdown",
   "metadata": {},
   "source": [
    "# MF-HF-L2:"
   ]
  },
  {
   "cell_type": "code",
   "execution_count": null,
   "metadata": {},
   "outputs": [],
   "source": [
    "from gal_goku import emus_multifid as emus\n",
    "\n",
    "data_dir = '/home/qezlou/HD2/HETDEX/cosmo/data/HMF/'\n",
    "\n",
    "savefile = '/home/qezlou/HD2/HETDEX/cosmo/data/HMF/train/loo_HF_L2.hdf5'\n",
    "\n",
    "emu_type = {'multi-fid':True, 'single-bin':True, 'linear':True }\n",
    "\n",
    "emu = emus.Hmf(data_dir=data_dir,fid =['L2', 'HF'], emu_type=emu_type, narrow=False)\n",
    "emu.loo_train_pred(savefile=savefile)"
   ]
  },
  {
   "cell_type": "code",
   "execution_count": 1,
   "metadata": {},
   "outputs": [
    {
     "name": "stderr",
     "output_type": "stream",
     "text": [
      "01/27/2025 12:31:29 PM Loading HMFs from HF_hmfs.hdf5\n",
      "01/27/2025 12:31:29 PM Loading HMFs from L2_hmfs.hdf5\n",
      "01/27/2025 12:31:29 PM Loading HMFs from L2_hmfs.hdf5\n",
      "01/27/2025 12:31:29 PM Found 21 common pairs\n",
      "01/27/2025 12:31:29 PM Found 21 common pairs\n",
      "01/27/2025 12:31:29 PM Load IC file from /home/qezlou/HD2/HETDEX/cosmo/data/HMF/all_ICs.json\n",
      "01/27/2025 12:31:29 PM Load IC file from /home/qezlou/HD2/HETDEX/cosmo/data/HMF/all_ICs.json\n",
      "01/27/2025 12:31:29 PM Loading HMFs from HF_hmfs.hdf5\n",
      "01/27/2025 12:31:29 PM Loading HMFs from HF_hmfs.hdf5\n",
      "01/27/2025 12:31:29 PM Load IC file from /home/qezlou/HD2/HETDEX/cosmo/data/HMF/all_ICs.json\n",
      "01/27/2025 12:31:29 PM Load IC file from /home/qezlou/HD2/HETDEX/cosmo/data/HMF/all_ICs.json\n",
      "01/27/2025 12:31:29 PM Loading HMFs from L2_hmfs.hdf5\n",
      "01/27/2025 12:31:29 PM Loading HMFs from L2_hmfs.hdf5\n"
     ]
    }
   ],
   "source": [
    "from gal_goku import summary_stats\n",
    "import numpy as np\n",
    "\n",
    "data_dir = '/home/qezlou/HD2/HETDEX/cosmo/data/HMF/'\n",
    "pairs = summary_stats.get_pairs(data_dir=data_dir, eval_mbins= np.arange(11.1, 13.5, 0.1))"
   ]
  },
  {
   "cell_type": "markdown",
   "metadata": {},
   "source": []
  }
 ],
 "metadata": {
  "kernelspec": {
   "display_name": "py3.12",
   "language": "python",
   "name": "python3"
  },
  "language_info": {
   "codemirror_mode": {
    "name": "ipython",
    "version": 3
   },
   "file_extension": ".py",
   "mimetype": "text/x-python",
   "name": "python",
   "nbconvert_exporter": "python",
   "pygments_lexer": "ipython3",
   "version": "3.12.8"
  }
 },
 "nbformat": 4,
 "nbformat_minor": 2
}
