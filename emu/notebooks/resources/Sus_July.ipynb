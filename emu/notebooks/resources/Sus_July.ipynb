{
 "cells": [
  {
   "cell_type": "code",
   "execution_count": 18,
   "id": "b86af985",
   "metadata": {},
   "outputs": [],
   "source": [
    "import numpy as np\n",
    "\n",
    "def mass_res_to_part_counts(mass_res=5e10,  box=1000):\n",
    "\n",
    "    part_orig = 3000\n",
    "    box_orig = 1000\n",
    "    dens_orig = (part_orig / box_orig)**3\n",
    "    mass_res_orig = 1e11\n",
    "    \n",
    "    # We assume mass_Res is inversely proportional to the density\n",
    "    dens =  dens_orig  * (mass_res_orig/mass_res)\n",
    "\n",
    "    part = dens**(1/3)  *  box \n",
    "    return part\n",
    "    \n",
    "\n",
    "def part_to_sus(mass_res, box):\n",
    "\n",
    "    x = np.array([3000, 750, 750])\n",
    "    y = np.array([1000, 1000, 250])\n",
    "    z = np.array([5000, 22, 50])\n",
    "\n",
    "    # Fit a linear function to the data\n",
    "    A = np.vstack([x, y, np.ones_like(x)]).T\n",
    "    coeff, _, _, _ = np.linalg.lstsq(A, z, rcond=None)\n",
    "\n",
    "    # Get the particles needed for the given mass resolution\n",
    "    part = mass_res_to_part_counts(mass_res, box)\n",
    "\n",
    "    # Predict tz using the linear function\n",
    "    tz = coeff[0] * part + coeff[1] * box + coeff[2]\n",
    "    return tz, part\n",
    "\n",
    "\n",
    "def get_sus(num_lf=1200, box_lf=250, num_hf=36, box_hf=1000, mass_res=5e10):\n",
    "    \n",
    "    print('-------- SUs --------')\n",
    "    \n",
    "    lf_sus, part_lf = part_to_sus(mass_res=mass_res, box=box_lf)\n",
    "    hf_sus, part_hf = part_to_sus(mass_res=mass_res, box=box_hf)\n",
    "    print(f'Sim specs:')\n",
    "    print(f'LF: {part_lf:.0f} particles, box size: {box_lf} Mpc/h')\n",
    "    print(f'HF: {part_hf:.0f} particles, box size: {box_hf} Mpc/h')\n",
    "    \n",
    "    print('SUs for individual simulations:')\n",
    "    print(f'LF: {lf_sus:.0f}, HF:{hf_sus:.0f}')\n",
    "    print(f'Total SUs: ')\n",
    "    print(f'LF: {num_lf*lf_sus/1e6:.3f}e6, \\\n",
    "          HF:{num_hf*hf_sus/1e6:.3f}e6 \\\n",
    "            total: {num_lf*lf_sus/1e6+num_hf*hf_sus/1e6:.3f}e6')\n",
    "    \n",
    "\n",
    "def get_storage(num_lf=1200, box_lf=250, num_hf=36, box_hf=1000, mass_res=5e10):\n",
    "    print(f'-------- STORAGE --------')\n",
    "    part_lf = mass_res_to_part_counts(mass_res, box_lf)\n",
    "    part_hf = mass_res_to_part_counts(mass_res, box_hf)\n",
    "    print(f'Sim specs:')\n",
    "    print(f'LF: {part_lf:.0f} particles, box size: {box_lf} Mpc/h')\n",
    "    print(f'HF: {part_hf:.0f} particles, box size: {box_hf} Mpc/h')\n",
    "    print('Storage for individual simulations:')\n",
    "\n",
    "    # GOKU L2 sims size in GB\n",
    "    lf_size_orig = 150\n",
    "    lf_part_orig = 750\n",
    "    # GOKU HF sims size in GB \n",
    "    hf_size_orig = 1_500\n",
    "    hf_part_orig = 3000\n",
    "\n",
    "    lf_size = lf_size_orig * (part_lf / lf_part_orig)**3\n",
    "    hf_size = hf_size_orig * (part_hf / hf_part_orig)**3\n",
    "\n",
    "    print(f'LF: {lf_size:.0f} GB, HF:{hf_size:.0f} GB')\n",
    "    print(f'Total size: ')\n",
    "    print(f'LF: {num_lf*lf_size/1e3:.3f} TB, \\\n",
    "          HF:{num_hf*hf_size/1e3:.3f} TB \\\n",
    "            total: {(num_lf*lf_size+num_hf*hf_size)/1e3:.3f} TB')\n"
   ]
  },
  {
   "cell_type": "markdown",
   "id": "9c6f4263",
   "metadata": {},
   "source": [
    "## Resolving $10^{10.5}$ halos and reducing cosmic vraince:\n",
    "\n",
    "Resolution: \n",
    "\n",
    "Cosmic varaince: Replace L2 with $L=500 Mpc/h$\n"
   ]
  },
  {
   "cell_type": "code",
   "execution_count": 19,
   "id": "ec90c776",
   "metadata": {},
   "outputs": [
    {
     "name": "stdout",
     "output_type": "stream",
     "text": [
      "-------- SUs --------\n",
      "Sim specs:\n",
      "LF: 1890 particles, box size: 500 Mpc/h\n",
      "HF: 3780 particles, box size: 1000 Mpc/h\n",
      "SUs for individual simulations:\n",
      "LF: 2563, HF:6725\n",
      "Total SUs: \n",
      "LF: 3.075e6,           HF:0.242e6             total: 3.317e6\n"
     ]
    }
   ],
   "source": [
    "get_sus(num_lf=1200, box_lf=500, num_hf=36, box_hf=1000, mass_res=5e10)"
   ]
  },
  {
   "cell_type": "markdown",
   "id": "71e05902",
   "metadata": {},
   "source": [
    "## No cosmic varaince reduction:"
   ]
  },
  {
   "cell_type": "code",
   "execution_count": 20,
   "id": "83b9aaff",
   "metadata": {},
   "outputs": [
    {
     "name": "stdout",
     "output_type": "stream",
     "text": [
      "-------- SUs --------\n",
      "Sim specs:\n",
      "LF: 945 particles, box size: 250 Mpc/h\n",
      "HF: 3780 particles, box size: 1000 Mpc/h\n",
      "SUs for individual simulations:\n",
      "LF: 481, HF:6725\n",
      "Total SUs: \n",
      "LF: 0.578e6,           HF:0.242e6             total: 0.820e6\n",
      "-------- STORAGE --------\n",
      "Sim specs:\n",
      "LF: 945 particles, box size: 250 Mpc/h\n",
      "HF: 3780 particles, box size: 1000 Mpc/h\n",
      "Storage for individual simulations:\n",
      "LF: 300 GB, HF:3000 GB\n",
      "Total size: \n",
      "LF: 360.000 TB,           HF:108.000 TB             total: 468.000 TB\n"
     ]
    }
   ],
   "source": [
    "get_sus(num_lf=1200, box_lf=250, num_hf=36, box_hf=1000, mass_res=5e10)\n",
    "get_storage(num_lf=1200, box_lf=250, num_hf=36, box_hf=1000, mass_res=5e10)"
   ]
  },
  {
   "cell_type": "markdown",
   "id": "f897f751",
   "metadata": {},
   "source": [
    "## Only reducing the Cosmic Varaince:\n",
    "\n",
    "Replace L2 with same resolution, but bigger box: `L= 500 Mpc/h, Npart = 1500`"
   ]
  },
  {
   "cell_type": "code",
   "execution_count": 21,
   "id": "0ad6c86a",
   "metadata": {},
   "outputs": [
    {
     "name": "stdout",
     "output_type": "stream",
     "text": [
      "-------- SUs --------\n",
      "Sim specs:\n",
      "LF: 1500 particles, box size: 500 Mpc/h\n",
      "HF: 3000 particles, box size: 1000 Mpc/h\n",
      "SUs for individual simulations:\n",
      "LF: 1700, HF:5000\n",
      "Total SUs: \n",
      "LF: 2.040e6,           HF:0.180e6             total: 2.220e6\n"
     ]
    }
   ],
   "source": [
    "get_sus(num_lf=1200, box_lf=500, num_hf=36, box_hf=1000, mass_res=1e11)"
   ]
  },
  {
   "cell_type": "markdown",
   "id": "24a41f8f",
   "metadata": {},
   "source": [
    "# Storage:"
   ]
  },
  {
   "cell_type": "code",
   "execution_count": null,
   "id": "2d058afe",
   "metadata": {},
   "outputs": [],
   "source": []
  },
  {
   "cell_type": "code",
   "execution_count": null,
   "id": "ff528c88",
   "metadata": {},
   "outputs": [
    {
     "name": "stdout",
     "output_type": "stream",
     "text": [
      "Sim specs:\n",
      "LF: 945 particles, box size: 250 Mpc/h\n",
      "HF: 3780 particles, box size: 1000 Mpc/h\n",
      "Storage for individual simulations:\n",
      "LF: 300 GB, HF:3000 GB\n",
      "Total size: \n",
      "LF: 360.000 TB,           HF:108.000 TB             total: 468.000 TB\n"
     ]
    }
   ],
   "source": []
  },
  {
   "cell_type": "code",
   "execution_count": 13,
   "id": "3a0c768d",
   "metadata": {},
   "outputs": [
    {
     "data": {
      "text/plain": [
       "360.0"
      ]
     },
     "execution_count": 13,
     "metadata": {},
     "output_type": "execute_result"
    }
   ],
   "source": [
    "1200 * 300 /1e3"
   ]
  },
  {
   "cell_type": "code",
   "execution_count": null,
   "id": "9dec3b2e",
   "metadata": {},
   "outputs": [],
   "source": []
  }
 ],
 "metadata": {
  "kernelspec": {
   "display_name": "py3.12",
   "language": "python",
   "name": "python3"
  },
  "language_info": {
   "codemirror_mode": {
    "name": "ipython",
    "version": 3
   },
   "file_extension": ".py",
   "mimetype": "text/x-python",
   "name": "python",
   "nbconvert_exporter": "python",
   "pygments_lexer": "ipython3",
   "version": "3.12.9"
  }
 },
 "nbformat": 4,
 "nbformat_minor": 5
}
