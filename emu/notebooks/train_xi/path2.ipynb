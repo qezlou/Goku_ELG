{
 "cells": [
  {
   "cell_type": "markdown",
   "metadata": {},
   "source": [
    "## Path 2\n",
    "\n",
    "Interpolate first so there is **no missing output** at any $(r, n_1, n_2)$ bins\n",
    "\n",
    "1. Use spline (or any other ways) to interpolate $\\xi(r)$ at any $r$ on $(n_1, n_2)$. \n",
    "  - [ ] The spline interpoaltion is confused at large mass bins where the data was originally missing or even at neghboring mass pairs. It maybe unimportant as there are very few such galaxies.\n",
    "  - **Solution**: We should remove the sims that have a bad fit (with spline or GP method) before feeding for training. It removes signoficant number of  L2-wide sims for large mass bins, but doesn't effect the rest much.\n"
   ]
  },
  {
   "cell_type": "markdown",
   "metadata": {},
   "source": [
    "## Replace the nan bins with spline interpolated"
   ]
  },
  {
   "cell_type": "code",
   "execution_count": null,
   "metadata": {},
   "outputs": [],
   "source": [
    "import numpy as np\n",
    "import importlib\n",
    "from gal_goku import emus_multifid\n",
    "importlib.reload(emus_multifid)\n",
    "\n",
    "data_dir = '/home/qezlou/HD2/HETDEX/cosmo/data/xi_on_grid/'\n",
    "#mass_pair = (11.4,11.4)\n",
    "mass_pair = (11.8, 11.8)\n",
    "emu_type = {'wide_and_narrow':False}\n",
    "xi_emu = emus_multifid.XiNativeBins(data_dir, mass_pair=mass_pair, logging_level='INFO', emu_type=emu_type)\n",
    "xi_emu.train(ind_train=np.delete(np.arange(21), [2,12,18]))\n"
   ]
  }
 ],
 "metadata": {
  "kernelspec": {
   "display_name": "py3.12",
   "language": "python",
   "name": "python3"
  },
  "language_info": {
   "codemirror_mode": {
    "name": "ipython",
    "version": 3
   },
   "file_extension": ".py",
   "mimetype": "text/x-python",
   "name": "python",
   "nbconvert_exporter": "python",
   "pygments_lexer": "ipython3",
   "version": "3.12.2"
  }
 },
 "nbformat": 4,
 "nbformat_minor": 2
}
