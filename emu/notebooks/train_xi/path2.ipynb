{
 "cells": [
  {
   "cell_type": "markdown",
   "metadata": {},
   "source": [
    "## Path 2\n",
    "\n",
    "Interpolate first so there is **no missing output** at any $(r, n_1, n_2)$ bins\n",
    "\n",
    "1. Use spline (or any other ways) to interpolate $\\xi(r)$ at any $r$ on $(n_1, n_2)$. \n",
    "  - [ ] The spline interpoaltion is confused at large mass bins where the data was originally missing or even at neghboring mass pairs. It maybe unimportant as there are very few such galaxies.\n",
    "  - **Solution**: We should remove the sims that have a bad fit (with spline or GP method) before feeding for training. It removes signoficant number of  L2-wide sims for large mass bins, but doesn't effect the rest much.\n"
   ]
  },
  {
   "cell_type": "markdown",
   "metadata": {},
   "source": [
    "## Replace the nan bins with spline interpolated"
   ]
  },
  {
   "cell_type": "code",
   "execution_count": null,
   "metadata": {},
   "outputs": [],
   "source": []
  }
 ],
 "metadata": {
  "kernelspec": {
   "display_name": "py3.12",
   "language": "python",
   "name": "python3"
  },
  "language_info": {
   "codemirror_mode": {
    "name": "ipython",
    "version": 3
   },
   "file_extension": ".py",
   "mimetype": "text/x-python",
   "name": "python",
   "nbconvert_exporter": "python",
   "pygments_lexer": "ipython3",
   "version": "3.12.2"
  }
 },
 "nbformat": 4,
 "nbformat_minor": 2
}
