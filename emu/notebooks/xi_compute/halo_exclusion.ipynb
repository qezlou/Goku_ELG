{
 "cells": [
  {
   "cell_type": "markdown",
   "id": "beca68b8",
   "metadata": {},
   "source": [
    "## Removing the 1-halo term form the sims:"
   ]
  },
  {
   "cell_type": "code",
   "execution_count": 7,
   "id": "c522ab3a",
   "metadata": {},
   "outputs": [],
   "source": [
    "import numpy as np\n",
    "from scipy.spatial import cKDTree\n",
    "\n",
    "def halo_exclusion(pos, mass, r200, boxsize=None):\n",
    "    \"\"\"\n",
    "    Perform halo exclusion by removing smaller halos within the R200 of more massive halos.\n",
    "\n",
    "    Parameters\n",
    "    ----------\n",
    "    pos : ndarray of shape (N, 3)\n",
    "        Positions of halos (in Mpc/h).\n",
    "    mass : ndarray of shape (N,)\n",
    "        Masses of halos (in Msun/h), used to sort halos.\n",
    "    r200 : ndarray of shape (N,)\n",
    "        R200 radius of halos (in Mpc/h).\n",
    "    boxsize : float, optional\n",
    "        If given, apply periodic boundary conditions.\n",
    "\n",
    "    Returns\n",
    "    -------\n",
    "    keep_mask : ndarray of bool\n",
    "        Boolean mask array indicating which halos are kept.\n",
    "    \"\"\"\n",
    "\n",
    "    N = len(mass)\n",
    "    idx_sorted = np.argsort(-mass)  # Sort by decreasing mass\n",
    "    pos = pos[idx_sorted]\n",
    "    r200 = r200[idx_sorted]\n",
    "\n",
    "    keep_mask = np.ones(N, dtype=bool)\n",
    "    tree = cKDTree(pos, boxsize=boxsize)\n",
    "\n",
    "    for i in range(N):\n",
    "        if not keep_mask[i]:\n",
    "            continue  # Already excluded\n",
    "\n",
    "        # Query neighbors within this halo's r200\n",
    "        neighbors = tree.query_ball_point(pos[i], r200[i])\n",
    "        for j in neighbors:\n",
    "            if j <= i:\n",
    "                continue  # Only exclude lower-mass halos\n",
    "            keep_mask[j] = False\n",
    "\n",
    "    # Map keep_mask back to original order\n",
    "    inverse_sort = np.argsort(idx_sorted)\n",
    "    return keep_mask[inverse_sort]"
   ]
  },
  {
   "cell_type": "code",
   "execution_count": 8,
   "id": "8937efcb",
   "metadata": {},
   "outputs": [
    {
     "name": "stderr",
     "output_type": "stream",
     "text": [
      "[ 000000.01 ]   0: 05-27 13:58  get corr        INFO     Logger initialized at level: 20\n",
      "[ 000000.02 ]   0: 05-27 13:58  get corr        INFO     MPI_COMM_WORLD | size = 1 -- Nbkit COMM | size = 1\n",
      "[ 000000.03 ]   0: 05-27 13:58  get corr        INFO     base_dir = /scratch/06536/qezlou/Goku/FOF/L2/ | number of sims = 151, z = 2.5\n"
     ]
    },
    {
     "name": "stdout",
     "output_type": "stream",
     "text": [
      "for 0 : 0.9050741589672093, counts removed: 24103\n",
      "for 1 : 0.8980237451864684, counts removed: 10831\n",
      "for 2 : 0.8707354631119283, counts removed: 56243\n",
      "for 3 : 0.8690085376721189, counts removed: 45568\n",
      "for 4 : 0.9462431746520034, counts removed: 1398\n",
      "for 5 : 0.8663883864182365, counts removed: 61233\n",
      "for 6 : 0.9228668377058677, counts removed: 9320\n",
      "for 7 : 0.8468576612091926, counts removed: 89814\n",
      "for 8 : 0.881691417907163, counts removed: 26879\n",
      "for 9 : 0.9347843875296621, counts removed: 797\n",
      "for 10 : 0.8669091635138664, counts removed: 51993\n",
      "for 11 : 0.8390050682392681, counts removed: 114578\n",
      "for 12 : 0.883693214485613, counts removed: 61092\n",
      "for 13 : 0.9169112438012347, counts removed: 5747\n",
      "for 14 : 0.8556011592156171, counts removed: 49079\n",
      "for 15 : 0.8841776469321079, counts removed: 19356\n",
      "for 16 : 0.9338556965734739, counts removed: 9480\n",
      "for 17 : 0.8998370544626574, counts removed: 18564\n",
      "for 18 : 0.937159588200107, counts removed: 1996\n",
      "for 19 : 0.902972642801614, counts removed: 18347\n",
      "for 20 : 0.851774471907767, counts removed: 79531\n"
     ]
    }
   ],
   "source": [
    "from gal_goku_sims import xi\n",
    "\n",
    "base_dir = '/scratch/06536/qezlou/Goku/FOF/L2/'\n",
    "z = 2.5\n",
    "narrow = False\n",
    "\n",
    "corr= xi.Corr()\n",
    "pigs = corr.get_pig_dirs(base_dir, z=2.5, narrow=narrow)\n",
    "\n",
    "for i in range(21):\n",
    "    cosmo = corr.get_cosmo(pigs['params'][i])\n",
    "    halos = corr.load_halo_cat(pigs['pig_dirs'][i], cosmo=cosmo)\n",
    "    pos = halos['Position'].compute()\n",
    "    mass = halos['Mass'].compute()\n",
    "    r200 = halos['Radius'].compute()\n",
    "    boxsize = halos.attrs['BoxSize'][0]\n",
    "    keep_mask = halo_exclusion(pos, mass, 10*r200, boxsize=boxsize)\n",
    "    print(f'for {i} : {np.where(keep_mask)[0].size/ halos.size}, counts removed: {np.sum(~keep_mask)}')"
   ]
  },
  {
   "cell_type": "code",
   "execution_count": 5,
   "id": "3c13eebd",
   "metadata": {},
   "outputs": [
    {
     "data": {
      "text/plain": [
       "(0.03154554476534708,\n",
       " 0.26945865079497766,\n",
       " 0.042546314274041826,\n",
       " 0.013226832581339847)"
      ]
     },
     "execution_count": 5,
     "metadata": {},
     "output_type": "execute_result"
    }
   ],
   "source": [
    "np.min(r200), np.max(r200), np.mean(r200), np.std(r200)"
   ]
  },
  {
   "cell_type": "code",
   "execution_count": 13,
   "id": "d2b82ec5",
   "metadata": {},
   "outputs": [
    {
     "data": {
      "text/plain": [
       "66.42823470092551"
      ]
     },
     "execution_count": 13,
     "metadata": {},
     "output_type": "execute_result"
    }
   ],
   "source": [
    "from colossus.halo import mass_defs\n",
    "from colossus.halo import concentration\n",
    "from colossus.cosmology import cosmology as colossus_cosmology\n",
    "\n",
    "# Set up Colossus cosmology\n",
    "colossus_cosmology.setCosmology('planck18')\n",
    "\n",
    "\n",
    "def get_halo_props_colossus(m_vir, z=2.5):\n",
    "    \"\"\"\n",
    "    Get halo properties using Colossus.\n",
    "\n",
    "    Parameters\n",
    "    ----------\n",
    "    mvir : float\n",
    "        The virial mass of the halo\n",
    "    z : float\n",
    "    \"\"\"\n",
    "    # gEt the concentration parameter\n",
    "    c_vir = concentration.concentration(M=m_vir, z=z, mdef='vir')\n",
    "    # Get the virial radius\n",
    "    _, r_vir, _ = mass_defs.changeMassDefinition(m_vir, c_vir, z, 'vir', '200m')\n",
    "    return c_vir, r_vir\n",
    "\n",
    "_, r_vir = get_halo_props_colossus(mass[2400], z=2.5)\n",
    "r_vir"
   ]
  },
  {
   "cell_type": "code",
   "execution_count": 14,
   "id": "9d2fe439",
   "metadata": {},
   "outputs": [
    {
     "data": {
      "text/plain": [
       "0.067253444019286"
      ]
     },
     "execution_count": 14,
     "metadata": {},
     "output_type": "execute_result"
    }
   ],
   "source": [
    "r200[2400]"
   ]
  },
  {
   "cell_type": "markdown",
   "id": "69bdec12",
   "metadata": {},
   "source": [
    "Fully implement in the source codE:"
   ]
  },
  {
   "cell_type": "code",
   "execution_count": 7,
   "id": "e7db6432",
   "metadata": {},
   "outputs": [
    {
     "name": "stderr",
     "output_type": "stream",
     "text": [
      "[ 000000.00 ]   0: 05-27 14:28  get corr        INFO     Logger initialized at level: 20\n",
      "[ 000000.00 ]   0: 05-27 14:28  get corr        INFO     MPI_COMM_WORLD | size = 1 -- Nbkit COMM | size = 1\n",
      "[ 000000.72 ]   0: 05-27 14:28  get corr        INFO     base_dir = /scratch/06536/qezlou/Goku/FOF/L2/ | number of sims = 151, z = 2.5\n",
      "[ 000008.08 ]   0: 05-27 14:28  get corr        INFO     Rank 0 removed 15.62% of halos due to exclusion with radius 10*R200\n"
     ]
    },
    {
     "data": {
      "text/plain": [
       "HaloCatalog(size=329641)"
      ]
     },
     "execution_count": 7,
     "metadata": {},
     "output_type": "execute_result"
    }
   ],
   "source": [
    "import importlib\n",
    "from gal_goku_sims import xi\n",
    "importlib.reload(xi)\n",
    "\n",
    "base_dir = '/scratch/06536/qezlou/Goku/FOF/L2/'\n",
    "z = 2.5\n",
    "narrow = False\n",
    "\n",
    "corr= xi.Corr()\n",
    "pigs = corr.get_pig_dirs(base_dir, z=2.5, narrow=narrow)\n",
    "corr.load_halo_cat(pigs['pig_dirs'][10], cosmo=corr.get_cosmo(pigs['params'][0]))\n",
    "#xi_h, rbins = corr._get_corr(pigs['pig_dirs'][0], cosmo=corr.get_cosmo(pigs['params'][0]), mass_th=[12.0,12.0], z=z)"
   ]
  },
  {
   "cell_type": "markdown",
   "id": "4675cfd9",
   "metadata": {},
   "source": [
    "Test the xi(r) with 10*R200:"
   ]
  },
  {
   "cell_type": "code",
   "execution_count": 2,
   "id": "777d5fcd",
   "metadata": {},
   "outputs": [
    {
     "data": {
      "text/plain": [
       "Text(0, 0.5, 'Correlation Function')"
      ]
     },
     "execution_count": 2,
     "metadata": {},
     "output_type": "execute_result"
    },
    {
     "data": {
      "image/png": "[encoded data removed]",
      "text/plain": [
       "<Figure size 640x480 with 1 Axes>"
      ]
     },
     "metadata": {},
     "output_type": "display_data"
    }
   ],
   "source": [
    "from matplotlib import pyplot as plt\n",
    "import h5py\n",
    "import numpy as np\n",
    "\n",
    "\n",
    "with h5py.File('test_xi_ex.h5','r') as f:\n",
    "    rbins = f['rbins'][:]\n",
    "    xi_h = f['xi_h'][:]\n",
    "with h5py.File('test_xi_no_ex.h5','r') as f:\n",
    "    rbins_no_ex = f['rbins'][:]\n",
    "    xi_h_no_ex = f['xi_h'][:]\n",
    "with h5py.File('test_xi_ex_rad_fac_20.h5','r') as f:\n",
    "    rbins_rad_fac_20 = f['rbins'][:]\n",
    "    xi_h_rad_fac_20 = f['xi_h'][:]\n",
    "plt.loglog(rbins_rad_fac_20, xi_h_rad_fac_20, label='With Halo Exclusion (Radial Factor 20)', marker='s')\n",
    "plt.loglog(rbins, xi_h, label='With Halo Exclusion', marker='o')\n",
    "plt.loglog(rbins_no_ex, xi_h_no_ex, label='Without Halo Exclusion', marker='x')\n",
    "plt.legend()\n",
    "plt.xlabel('r [Mpc/h]')\n",
    "plt.ylabel('Correlation Function')"
   ]
  },
  {
   "cell_type": "markdown",
   "id": "281e7479",
   "metadata": {},
   "source": [
    "## Comapre to Rockstar"
   ]
  },
  {
   "cell_type": "code",
   "execution_count": 4,
   "id": "50433f9c",
   "metadata": {},
   "outputs": [
    {
     "ename": "MemoryError",
     "evalue": "Unable to allocate 4.71 GiB for an array with shape (421875000, 3) and data type float32",
     "output_type": "error",
     "traceback": [
      "\u001b[0;31m---------------------------------------------------------------------------\u001b[0m",
      "\u001b[0;31mMemoryError\u001b[0m                               Traceback (most recent call last)",
      "Cell \u001b[0;32mIn[4], line 48\u001b[0m\n\u001b[1;32m     46\u001b[0m part_dir \u001b[38;5;241m=\u001b[39m \u001b[38;5;124m'\u001b[39m\u001b[38;5;124m/scratch/06536/qezlou/Goku/FOF/L2/compressed_10p_Box250_Part750_0098/output/PART_003\u001b[39m\u001b[38;5;124m'\u001b[39m\n\u001b[1;32m     47\u001b[0m save_dir \u001b[38;5;241m=\u001b[39m\u001b[38;5;124m'\u001b[39m\u001b[38;5;124m/scratch/06536/qezlou/Goku/FOF/rock_halos\u001b[39m\u001b[38;5;124m'\u001b[39m\n\u001b[0;32m---> 48\u001b[0m \u001b[43mbigfile_to_ascii\u001b[49m\u001b[43m(\u001b[49m\u001b[43mpart_dir\u001b[49m\u001b[43m,\u001b[49m\u001b[43m \u001b[49m\u001b[43msave_dir\u001b[49m\u001b[43m)\u001b[49m\n",
      "Cell \u001b[0;32mIn[4], line 18\u001b[0m, in \u001b[0;36mbigfile_to_ascii\u001b[0;34m(part_dir, save_dir)\u001b[0m\n\u001b[1;32m     16\u001b[0m \u001b[38;5;28;01mwith\u001b[39;00m bigfile\u001b[38;5;241m.\u001b[39mBigFile(part_dir,\u001b[38;5;124m'\u001b[39m\u001b[38;5;124mr\u001b[39m\u001b[38;5;124m'\u001b[39m) \u001b[38;5;28;01mas\u001b[39;00m bf:\n\u001b[1;32m     17\u001b[0m     pos \u001b[38;5;241m=\u001b[39m bf[\u001b[38;5;124m'\u001b[39m\u001b[38;5;124m1/Position\u001b[39m\u001b[38;5;124m'\u001b[39m][:]\u001b[38;5;241m/\u001b[39m\u001b[38;5;241m1000\u001b[39m\n\u001b[0;32m---> 18\u001b[0m     vel \u001b[38;5;241m=\u001b[39m \u001b[43mbf\u001b[49m\u001b[43m[\u001b[49m\u001b[38;5;124;43m'\u001b[39;49m\u001b[38;5;124;43m1/Velocity\u001b[39;49m\u001b[38;5;124;43m'\u001b[39;49m\u001b[43m]\u001b[49m\u001b[43m[\u001b[49m\u001b[43m:\u001b[49m\u001b[43m]\u001b[49m\n\u001b[1;32m     19\u001b[0m     mass \u001b[38;5;241m=\u001b[39m bf[\u001b[38;5;124m'\u001b[39m\u001b[38;5;124m1\u001b[39m\u001b[38;5;124m'\u001b[39m]\u001b[38;5;241m.\u001b[39mattrs[\u001b[38;5;124m'\u001b[39m\u001b[38;5;124mMassTable\u001b[39m\u001b[38;5;124m'\u001b[39m][\u001b[38;5;241m1\u001b[39m]\u001b[38;5;241m*\u001b[39m\u001b[38;5;241m1e10\u001b[39m\n\u001b[1;32m     20\u001b[0m     ids \u001b[38;5;241m=\u001b[39m bf[\u001b[38;5;124m'\u001b[39m\u001b[38;5;124m1/ID\u001b[39m\u001b[38;5;124m'\u001b[39m][:]\n",
      "File \u001b[0;32m/work2/06536/qezlou/stampede3/miniconda3/envs/het-cosmo/lib/python3.8/site-packages/bigfile/__init__.py:30\u001b[0m, in \u001b[0;36m_enhance_slicefunc.<locals>.enhanced\u001b[0;34m(self, index, *args)\u001b[0m\n\u001b[1;32m     27\u001b[0m \u001b[38;5;129m@wraps\u001b[39m(getitem)\n\u001b[1;32m     28\u001b[0m \u001b[38;5;28;01mdef\u001b[39;00m \u001b[38;5;21menhanced\u001b[39m(\u001b[38;5;28mself\u001b[39m, index, \u001b[38;5;241m*\u001b[39margs):\n\u001b[1;32m     29\u001b[0m     \u001b[38;5;28;01mif\u001b[39;00m \u001b[38;5;28misinstance\u001b[39m(index, \u001b[38;5;28mslice\u001b[39m):\n\u001b[0;32m---> 30\u001b[0m         \u001b[38;5;28;01mreturn\u001b[39;00m \u001b[43mgetitem\u001b[49m\u001b[43m(\u001b[49m\u001b[38;5;28;43mself\u001b[39;49m\u001b[43m,\u001b[49m\u001b[43m \u001b[49m\u001b[43mindex\u001b[49m\u001b[43m,\u001b[49m\u001b[43m \u001b[49m\u001b[38;5;241;43m*\u001b[39;49m\u001b[43margs\u001b[49m\u001b[43m)\u001b[49m\n\u001b[1;32m     31\u001b[0m     \u001b[38;5;28;01melif\u001b[39;00m index \u001b[38;5;129;01mis\u001b[39;00m \u001b[38;5;28mEllipsis\u001b[39m:\n\u001b[1;32m     32\u001b[0m         \u001b[38;5;28;01mreturn\u001b[39;00m getitem(\u001b[38;5;28mself\u001b[39m, \u001b[38;5;28mslice\u001b[39m(\u001b[38;5;28;01mNone\u001b[39;00m, \u001b[38;5;28;01mNone\u001b[39;00m, \u001b[38;5;28;01mNone\u001b[39;00m), \u001b[38;5;241m*\u001b[39margs)\n",
      "File \u001b[0;32m/work2/06536/qezlou/stampede3/miniconda3/envs/het-cosmo/lib/python3.8/site-packages/bigfile/__init__.py:73\u001b[0m, in \u001b[0;36mColumn.__getitem__\u001b[0;34m(self, sl)\u001b[0m\n\u001b[1;32m     71\u001b[0m     \u001b[38;5;28;01mif\u001b[39;00m stop \u001b[38;5;241m!=\u001b[39m \u001b[38;5;241m1\u001b[39m:\n\u001b[1;32m     72\u001b[0m         \u001b[38;5;28;01mraise\u001b[39;00m \u001b[38;5;167;01mValueError\u001b[39;00m(\u001b[38;5;124m'\u001b[39m\u001b[38;5;124mmust request a contiguous chunk\u001b[39m\u001b[38;5;124m'\u001b[39m)\n\u001b[0;32m---> 73\u001b[0m     \u001b[38;5;28;01mreturn\u001b[39;00m \u001b[38;5;28;43mself\u001b[39;49m\u001b[38;5;241;43m.\u001b[39;49m\u001b[43mread\u001b[49m\u001b[43m(\u001b[49m\u001b[43mstart\u001b[49m\u001b[43m,\u001b[49m\u001b[43m \u001b[49m\u001b[43mend\u001b[49m\u001b[38;5;241;43m-\u001b[39;49m\u001b[43mstart\u001b[49m\u001b[43m)\u001b[49m\n\u001b[1;32m     74\u001b[0m \u001b[38;5;28;01melse\u001b[39;00m:\n\u001b[1;32m     75\u001b[0m     \u001b[38;5;28;01mraise\u001b[39;00m \u001b[38;5;167;01mTypeError\u001b[39;00m(\u001b[38;5;124m'\u001b[39m\u001b[38;5;124mExpecting a slice, got a `\u001b[39m\u001b[38;5;132;01m%s\u001b[39;00m\u001b[38;5;124m`\u001b[39m\u001b[38;5;124m'\u001b[39m \u001b[38;5;241m%\u001b[39m \u001b[38;5;28mstr\u001b[39m(\u001b[38;5;28mtype\u001b[39m(sl)))\n",
      "File \u001b[0;32mbigfile/pyxbigfile.pyx:483\u001b[0m, in \u001b[0;36mbigfile.pyxbigfile.ColumnLowLevelAPI.read\u001b[0;34m()\u001b[0m\n",
      "\u001b[0;31mMemoryError\u001b[0m: Unable to allocate 4.71 GiB for an array with shape (421875000, 3) and data type float32"
     ]
    }
   ],
   "source": [
    "## Get ASCII file to raed with rockstar\n",
    "import bigfile\n",
    "from os import path as op\n",
    "def bigfile_to_ascii(part_dir, save_dir):\n",
    "    \"\"\"\n",
    "    Convert a BigFile particle catalog to an ASCII file.\n",
    "    Parameters\n",
    "    ----------\n",
    "    part_dir : str\n",
    "        Path to the BigFile particle catalog.\n",
    "    ascii_file : str\n",
    "        Path to the output ASCII file.\n",
    "    \"\"\"\n",
    "    # Rockstar expects positions in Mpc/h and velocities in km/s\n",
    "    # Make sure the units are correct; apply conversion if needed\n",
    "    with bigfile.BigFile(part_dir,'r') as bf:\n",
    "        pos = bf['1/Position'][:]/1000\n",
    "        vel = bf['1/Velocity'][:]\n",
    "        mass = bf['1'].attrs['MassTable'][1]*1e10\n",
    "        ids = bf['1/ID'][:]\n",
    "        boxsize = bf['1'].attrs['BoxSize'][0]/1000 \n",
    "\n",
    "    # Write rockstar.cfg\n",
    "    config_file = op.join(save_dir, 'rockstar.cfg')\n",
    "    ascii_file = op.join(save_dir, 'rockstar_ascii.txt')\n",
    "    with open(config_file, 'w') as f:\n",
    "        f.write(f\"\"\"\n",
    "        INBASE = {ascii_file}\n",
    "        OUTBASE = ./output\n",
    "        FORCE_RES = 0.05\n",
    "        PARTICLE_MASS = {mass}e10\n",
    "        BOX_SIZE = {boxsize}\n",
    "        NUM_SNAPS = 1\n",
    "        SNAP_FORMAT = 3  # ascii\n",
    "        FULL_PARTICLE_CHUNKS = 1\n",
    "        OVERLAP_LENGTH = 0.1\n",
    "        BINARY_OUTPUT = 1\n",
    "                \"\"\")\n",
    "    # Write to ASCII file\n",
    "    with open(ascii_file, 'w') as f:\n",
    "        for i in range(pos.shape[0]):\n",
    "            line = f\"{pos[i,0]} {pos[i,1]} {pos[i,2]} {vel[i,0]} {vel[i,1]} {vel[i,2]} {mass} {ids[i]}\\n\"\n",
    "            f.write(line)\n",
    "\n",
    "\n",
    "part_dir = '/scratch/06536/qezlou/Goku/FOF/L2/compressed_10p_Box250_Part750_0098/output/PART_003'\n",
    "save_dir ='/scratch/06536/qezlou/Goku/FOF/rock_halos'\n",
    "bigfile_to_ascii(part_dir, save_dir)"
   ]
  },
  {
   "cell_type": "markdown",
   "id": "db5ad6b0",
   "metadata": {},
   "source": []
  }
 ],
 "metadata": {
  "kernelspec": {
   "display_name": "het-cosmo",
   "language": "python",
   "name": "python3"
  },
  "language_info": {
   "codemirror_mode": {
    "name": "ipython",
    "version": 3
   },
   "file_extension": ".py",
   "mimetype": "text/x-python",
   "name": "python",
   "nbconvert_exporter": "python",
   "pygments_lexer": "ipython3",
   "version": "3.8.20"
  }
 },
 "nbformat": 4,
 "nbformat_minor": 5
}
