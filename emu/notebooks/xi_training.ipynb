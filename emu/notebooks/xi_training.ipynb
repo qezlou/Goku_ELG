{
 "cells": [
  {
   "cell_type": "markdown",
   "metadata": {},
   "source": [
    "Check mass thresh:"
   ]
  },
  {
   "cell_type": "code",
   "execution_count": 3,
   "metadata": {},
   "outputs": [
    {
     "name": "stderr",
     "output_type": "stream",
     "text": [
      "[ 000000.00 ]   0: 02-21 10:10  get corr        INFO     Logger initialized at level: 20\n",
      "[ 000000.00 ]   0: 02-21 10:10  get corr        INFO     MPI_COMM_WORLD | size = 1 -- Nbkit COMM | size = 1\n"
     ]
    },
    {
     "data": {
      "text/plain": [
       "{'BoxSize': array([250.]),\n",
       " 'CMBTemperature': array([2.7255]),\n",
       " 'HubbleParam': array([0.73237333]),\n",
       " 'MassTable': array([0.        , 0.25368043, 0.        , 0.        , 0.        ,\n",
       "        0.        ]),\n",
       " 'NumFOFGroupsTotal': array([382736], dtype=uint64),\n",
       " 'NumPartInGroupTotal': array([       0, 43130152,        0,        0,        0,        0],\n",
       "       dtype=uint64),\n",
       " 'Omega0': array([0.25588]),\n",
       " 'OmegaBaryon': array([0.04015]),\n",
       " 'OmegaLambda': array([0.]),\n",
       " 'RSDFactor': array([10.55191866]),\n",
       " 'Time': array([0.285714]),\n",
       " 'UsePeculiarVelocity': array([1], dtype=int32),\n",
       " 'redshift': array([2.5000035]),\n",
       " 'cosmo': {'output': 'vTk dTk mPk',\n",
       "  'extra metric transfer functions': 'y',\n",
       "  'h': 0.6774,\n",
       "  'N_ur': 2.0328,\n",
       "  'gauge': 'synchronous',\n",
       "  'n_s': 0.9667,\n",
       "  'ln10^{10}A_s': 3.064,\n",
       "  'k_pivot': 0.05,\n",
       "  'tau_reio': 0.066,\n",
       "  'T_cmb': 2.7255,\n",
       "  'Omega_cdm': 0.2589,\n",
       "  'Omega_b': 0.0486,\n",
       "  'Omega_k': 0.0,\n",
       "  'N_ncdm': 1,\n",
       "  'm_ncdm': [0.06],\n",
       "  'P_k_max_h/Mpc': 10.0,\n",
       "  'z_max_pk': 100.0},\n",
       " 'mass': 'Mass',\n",
       " 'velocity': 'MassCenterVelocity',\n",
       " 'position': 'MassCenterPosition',\n",
       " 'mdef': 'vir',\n",
       " 'halo_mass_key': 'halo_mvir',\n",
       " 'halo_radius_key': 'halo_rvir'}"
      ]
     },
     "execution_count": 3,
     "metadata": {},
     "output_type": "execute_result"
    }
   ],
   "source": [
    "import numpy as np\n",
    "from gal_goku import get_corr\n",
    "\n",
    "\n",
    "basedir = '/scratch/06536/qezlou/Goku/FOF/L2'\n",
    "sim_tag = 'compressed_10p_Box250_Part750_0303'\n",
    "pig_dir = f'{basedir}/{sim_tag}/output/PIG_003/'\n",
    "save_dir = '/scratch/06536/qezlou/Goku/processed_data/check_false_positive/'\n",
    "\n",
    "\n",
    "corr = get_corr.Corr()\n",
    "\n",
    "cat = corr.load_halo_cat(pig_dir=pig_dir)\n",
    "cat.attrs"
   ]
  },
  {
   "cell_type": "code",
   "execution_count": 17,
   "metadata": {},
   "outputs": [
    {
     "name": "stdout",
     "output_type": "stream",
     "text": [
      "dask.array<mul, shape=(382736,), dtype=float32, chunksize=(100000,), chunktype=numpy.ndarray> first: 65690550000000.0 last: 81177740000.0\n",
      "HaloCatalog(size=295748) HaloCatalog(size=382736)\n"
     ]
    }
   ],
   "source": [
    "np.array(cat['Mass'][10:20])\n",
    "print(cat['Mass'])\n",
    "ind = cat['Mass'] > 1e11\n",
    "new_cat = cat[ind]\n",
    "print(new_cat, cat)"
   ]
  },
  {
   "cell_type": "code",
   "execution_count": 7,
   "metadata": {},
   "outputs": [
    {
     "data": {
      "image/png": "[encoded data removed]",
      "text/plain": [
       "<Figure size 640x480 with 1 Axes>"
      ]
     },
     "metadata": {},
     "output_type": "display_data"
    }
   ],
   "source": [
    "import h5py\n",
    "import numpy as np\n",
    "import matplotlib.pyplot as plt\n",
    "from gal_goku import utils\n",
    "with h5py.File('/scratch/06536/qezlou/Goku/processed_data/corrs_bins/test.hdf5','r') as f:\n",
    "    mbins = f['mbins'][:]\n",
    "    corr = f['corr'][:]\n",
    "    fig, ax = plt.subplots()\n",
    "    ax.plot(mbins, mbins*corr)\n",
    "    fit = utils.ConstrainedSplineFitter(logging_level='INFO', degree=3)\n",
    "    knots = np.array([mbins[0]]*3)\n",
    "    knots = np.append(knots, mbins)\n",
    "    knots = np.append(mbins, [mbins[-1]]*3)\n",
    "    spline = fit.fit_spline(mbins, corr, knots= knots)\n",
    "\n",
    "    fine_mbins = 10**np.arange(np.log10(mbins[0]), np.log10(mbins[-1])+0.02, 0.05)\n",
    "    ax.plot(fine_mbins, fine_mbins*spline(fine_mbins))\n",
    "    ax.set_xscale('log')\n",
    "    #ax.set_yscale('log')"
   ]
  },
  {
   "cell_type": "markdown",
   "metadata": {},
   "source": []
  }
 ],
 "metadata": {
  "kernelspec": {
   "display_name": "py3.12",
   "language": "python",
   "name": "python3"
  },
  "language_info": {
   "codemirror_mode": {
    "name": "ipython",
    "version": 3
   },
   "file_extension": ".py",
   "mimetype": "text/x-python",
   "name": "python",
   "nbconvert_exporter": "python",
   "pygments_lexer": "ipython3",
   "version": "3.12.8"
  }
 },
 "nbformat": 4,
 "nbformat_minor": 2
}
