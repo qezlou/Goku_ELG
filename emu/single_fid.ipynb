{
 "cells": [
  {
   "cell_type": "code",
   "execution_count": 1,
   "metadata": {},
   "outputs": [
    {
     "name": "stderr",
     "output_type": "stream",
     "text": [
      "2024-11-10 15:40:36.282460: I tensorflow/core/platform/cpu_feature_guard.cc:193] This TensorFlow binary is optimized with oneAPI Deep Neural Network Library (oneDNN) to use the following CPU instructions in performance-critical operations:  AVX2 FMA\n",
      "To enable them in other operations, rebuild TensorFlow with the appropriate compiler flags.\n",
      "2024-11-10 15:40:36.374861: W tensorflow/stream_executor/platform/default/dso_loader.cc:64] Could not load dynamic library 'libcudart.so.11.0'; dlerror: libcudart.so.11.0: cannot open shared object file: No such file or directory\n",
      "2024-11-10 15:40:36.374883: I tensorflow/stream_executor/cuda/cudart_stub.cc:29] Ignore above cudart dlerror if you do not have a GPU set up on your machine.\n",
      "2024-11-10 15:40:36.401883: E tensorflow/stream_executor/cuda/cuda_blas.cc:2981] Unable to register cuBLAS factory: Attempting to register factory for plugin cuBLAS when one has already been registered\n",
      "2024-11-10 15:40:36.854995: W tensorflow/stream_executor/platform/default/dso_loader.cc:64] Could not load dynamic library 'libnvinfer.so.7'; dlerror: libnvinfer.so.7: cannot open shared object file: No such file or directory\n",
      "2024-11-10 15:40:36.855066: W tensorflow/stream_executor/platform/default/dso_loader.cc:64] Could not load dynamic library 'libnvinfer_plugin.so.7'; dlerror: libnvinfer_plugin.so.7: cannot open shared object file: No such file or directory\n",
      "2024-11-10 15:40:36.855074: W tensorflow/compiler/tf2tensorrt/utils/py_utils.cc:38] TF-TRT Warning: Cannot dlopen some TensorRT libraries. If you would like to use Nvidia GPU with TensorRT, please make sure the missing libraries mentioned above are installed properly.\n"
     ]
    }
   ],
   "source": [
    "from copy import deepcopy\n",
    "\n",
    "import matplotlib.pyplot as plt\n",
    "import numpy as np\n",
    "import tensorflow as tf\n",
    "from matplotlib.axes import Axes\n",
    "from matplotlib.cm import coolwarm\n",
    "\n",
    "import gpflow"
   ]
  },
  {
   "cell_type": "code",
   "execution_count": null,
   "metadata": {},
   "outputs": [
    {
     "name": "stderr",
     "output_type": "stream",
     "text": [
      "2024-11-11 14:22:01.460529: I tensorflow/core/platform/cpu_feature_guard.cc:193] This TensorFlow binary is optimized with oneAPI Deep Neural Network Library (oneDNN) to use the following CPU instructions in performance-critical operations:  AVX2 FMA\n",
      "To enable them in other operations, rebuild TensorFlow with the appropriate compiler flags.\n",
      "2024-11-11 14:22:01.553352: W tensorflow/stream_executor/platform/default/dso_loader.cc:64] Could not load dynamic library 'libcudart.so.11.0'; dlerror: libcudart.so.11.0: cannot open shared object file: No such file or directory\n",
      "2024-11-11 14:22:01.553373: I tensorflow/stream_executor/cuda/cudart_stub.cc:29] Ignore above cudart dlerror if you do not have a GPU set up on your machine.\n",
      "2024-11-11 14:22:01.582053: E tensorflow/stream_executor/cuda/cuda_blas.cc:2981] Unable to register cuBLAS factory: Attempting to register factory for plugin cuBLAS when one has already been registered\n",
      "2024-11-11 14:22:02.003457: W tensorflow/stream_executor/platform/default/dso_loader.cc:64] Could not load dynamic library 'libnvinfer.so.7'; dlerror: libnvinfer.so.7: cannot open shared object file: No such file or directory\n",
      "2024-11-11 14:22:02.003526: W tensorflow/stream_executor/platform/default/dso_loader.cc:64] Could not load dynamic library 'libnvinfer_plugin.so.7'; dlerror: libnvinfer_plugin.so.7: cannot open shared object file: No such file or directory\n",
      "2024-11-11 14:22:02.003533: W tensorflow/compiler/tf2tensorrt/utils/py_utils.cc:38] TF-TRT Warning: Cannot dlopen some TensorRT libraries. If you would like to use Nvidia GPU with TensorRT, please make sure the missing libraries mentioned above are installed properly.\n"
     ]
    },
    {
     "ename": "ImportError",
     "evalue": "cannot import name 'GPflowModelWrapper' from 'emukit.model_wrappers' (/home/qezlou/miniconda3/envs/het-cosmo/lib/python3.8/site-packages/emukit/model_wrappers/__init__.py)",
     "output_type": "error",
     "traceback": [
      "\u001b[0;31m---------------------------------------------------------------------------\u001b[0m",
      "\u001b[0;31mImportError\u001b[0m                               Traceback (most recent call last)",
      "Cell \u001b[0;32mIn[1], line 8\u001b[0m\n\u001b[1;32m      5\u001b[0m \u001b[38;5;28;01mfrom\u001b[39;00m \u001b[38;5;21;01mgpflow\u001b[39;00m\u001b[38;5;21;01m.\u001b[39;00m\u001b[38;5;21;01moptimizers\u001b[39;00m \u001b[38;5;28;01mimport\u001b[39;00m Scipy\n\u001b[1;32m      6\u001b[0m \u001b[38;5;28;01mimport\u001b[39;00m \u001b[38;5;21;01mtensorflow\u001b[39;00m \u001b[38;5;28;01mas\u001b[39;00m \u001b[38;5;21;01mtf\u001b[39;00m\n\u001b[0;32m----> 8\u001b[0m \u001b[38;5;28;01mfrom\u001b[39;00m \u001b[38;5;21;01memukit\u001b[39;00m\u001b[38;5;21;01m.\u001b[39;00m\u001b[38;5;21;01mmodel_wrappers\u001b[39;00m \u001b[38;5;28;01mimport\u001b[39;00m GPflowModelWrapper\n\u001b[1;32m      9\u001b[0m \u001b[38;5;28;01mfrom\u001b[39;00m \u001b[38;5;21;01memukit\u001b[39;00m\u001b[38;5;21;01m.\u001b[39;00m\u001b[38;5;21;01mcore\u001b[39;00m \u001b[38;5;28;01mimport\u001b[39;00m ParameterSpace, ContinuousParameter\n\u001b[1;32m     10\u001b[0m \u001b[38;5;28;01mfrom\u001b[39;00m \u001b[38;5;21;01memukit\u001b[39;00m\u001b[38;5;21;01m.\u001b[39;00m\u001b[38;5;21;01mbayesian_optimization\u001b[39;00m\u001b[38;5;21;01m.\u001b[39;00m\u001b[38;5;21;01macquisitions\u001b[39;00m \u001b[38;5;28;01mimport\u001b[39;00m ExpectedImprovement\n",
      "\u001b[0;31mImportError\u001b[0m: cannot import name 'GPflowModelWrapper' from 'emukit.model_wrappers' (/home/qezlou/miniconda3/envs/het-cosmo/lib/python3.8/site-packages/emukit/model_wrappers/__init__.py)"
     ]
    }
   ],
   "source": [
    "import numpy as np\n",
    "import gpflow\n",
    "from gpflow.models import GPR\n",
    "from gpflow.kernels import SquaredExponential\n",
    "from gpflow.optimizers import Scipy\n",
    "import tensorflow as tf\n",
    "\n",
    "from emukit.model_wrappers import GPflowModelWrapper\n",
    "from emukit.core import ParameterSpace, ContinuousParameter\n",
    "from emukit.bayesian_optimization.acquisitions import ExpectedImprovement\n",
    "from emukit.bayesian_optimization.loops import BayesianOptimizationLoop\n",
    "\n",
    "# Step 1: Load and prepare your data\n",
    "N_samples = 100\n",
    "input_dim = 10\n",
    "\n",
    "# Replace with your actual data\n",
    "X = np.random.uniform(-1, 1, size=(N_samples, input_dim))\n",
    "Y = np.sum(np.sin(X), axis=1, keepdims=True) + np.random.normal(0, 0.1, size=(N_samples, 1))\n",
    "\n",
    "# Step 2: Normalize the data using TensorFlow\n",
    "X_mean, X_std = tf.reduce_mean(X, axis=0), tf.math.reduce_std(X, axis=0)\n",
    "X_normalized = (X - X_mean) / X_std\n",
    "\n",
    "Y_mean, Y_std = tf.reduce_mean(Y, axis=0), tf.math.reduce_std(Y, axis=0)\n",
    "Y_normalized = (Y - Y_mean) / Y_std\n",
    "\n",
    "# Step 3: Define the GPflow model\n",
    "kernel = SquaredExponential()\n",
    "gp_model = GPR(data=(X_normalized, Y_normalized), kernel=kernel, mean_function=None)\n",
    "\n",
    "# Step 4: Optimize the GPflow model\n",
    "optimizer = Scipy()\n",
    "\n",
    "@tf.function\n",
    "def objective_closure():\n",
    "    return gp_model.training_loss()\n",
    "\n",
    "optimizer.minimize(objective_closure, variables=gp_model.trainable_variables, options=dict(maxiter=100))\n",
    "\n",
    "# Step 5: Wrap the model with Emukit\n",
    "emukit_model = GPflowModelWrapper(gp_model)\n",
    "\n",
    "# Step 6: Define the parameter space\n",
    "parameter_space = ParameterSpace([\n",
    "    ContinuousParameter(f'x{i+1}', -1, 1) for i in range(input_dim)\n",
    "])\n",
    "\n",
    "# Step 7: Set up the Bayesian Optimization loop\n",
    "acquisition = ExpectedImprovement(model=emukit_model)\n",
    "bo_loop = BayesianOptimizationLoop(\n",
    "    model=emukit_model,\n",
    "    space=parameter_space,\n",
    "    acquisition=acquisition\n",
    ")\n",
    "\n",
    "# Step 8: Run the optimization loop\n",
    "num_iterations = 10\n",
    "bo_loop.run_loop(X_normalized, num_iterations)\n",
    "\n",
    "# Step 9: Retrieve and denormalize results\n",
    "X_opt_normalized = bo_loop.loop_state.X\n",
    "Y_opt_normalized = bo_loop.loop_state.Y\n",
    "\n",
    "X_opt = X_scaler.inverse_transform(X_opt_normalized)\n",
    "Y_opt = Y_scaler.inverse_transform(Y_opt_normalized)\n",
    "\n",
    "# Print optimized inputs and outputs\n",
    "print(\"Optimized Inputs (X):\")\n",
    "print(X_opt)\n",
    "\n",
    "print(\"\\nOptimized Outputs (Y):\")\n",
    "print(Y_opt)\n"
   ]
  },
  {
   "cell_type": "code",
   "execution_count": 4,
   "metadata": {},
   "outputs": [
    {
     "name": "stdout",
     "output_type": "stream",
     "text": [
      "Mean Squared Error on training data: [1.00428376e-03 1.29992406e-03 3.82553516e-03 2.63270169e-03\n",
      " 7.34199023e-04 1.85871635e-04 3.75403779e-03 1.42098069e-06\n",
      " 2.59731690e-05 6.85868238e-02 1.76019620e-04 1.17277821e-02\n",
      " 4.36997758e-03 3.28698871e-02 7.00113418e-05 2.42991517e-03\n",
      " 1.23990141e-02 3.07897806e-02 1.94434446e-03 8.51384720e-03\n",
      " 8.27282665e-05 3.19044012e-03 1.21755915e-04 2.71271406e-02\n",
      " 6.47731410e-03 1.74278903e-03 6.48316515e-03 3.06627989e-02\n",
      " 4.14304132e-03 5.04470066e-06 1.63983024e-02 6.72935063e-03\n",
      " 7.81468305e-05 3.03234990e-03 9.40521010e-04 1.68412182e-02\n",
      " 4.13435189e-02 5.15167377e-05 6.98979702e-03 8.64346891e-03\n",
      " 6.81993618e-03 4.37969069e-03 7.38030311e-04 3.14301190e-04\n",
      " 2.99082315e-03 1.98670290e-02 3.43741802e-06 7.47901672e-03\n",
      " 2.08276997e-02 3.80987678e-05 3.25902239e-03 1.10974581e-06\n",
      " 1.14755563e-04 1.91546354e-03 2.20352561e-02 1.59182087e-05\n",
      " 2.19571745e-03 5.32182065e-03 6.27361940e-03 8.63518569e-04\n",
      " 1.07061471e-02 1.82345945e-02 4.66642762e-03 1.79154691e-07\n",
      " 8.24030185e-03 4.51200683e-02 1.02838991e-02 1.44714012e-02\n",
      " 1.04330307e-03 3.35543687e-03 1.36891233e-02 4.27136329e-02\n",
      " 1.76667135e-04 1.12058382e-02 3.47468360e-02 3.35229461e-02\n",
      " 1.13677767e-03 3.24709582e-02 1.25982398e-04 3.35771982e-02\n",
      " 2.22910550e-02 2.25351729e-04 2.07575068e-02 1.30101345e-02\n",
      " 2.75145857e-03 7.97689534e-05 5.27090029e-02 3.36136773e-03\n",
      " 9.45891384e-03 1.77178534e-02 4.04012317e-03 2.01527423e-02\n",
      " 2.51032253e-02 6.52394137e-03 1.37291418e-02 7.05347661e-03\n",
      " 3.08977442e-03 3.48166907e-03 1.06192977e-03 3.81150328e-02]\n"
     ]
    },
    {
     "data": {
      "image/png": "[encoded data removed]",
      "text/plain": [
       "<Figure size 800x600 with 1 Axes>"
      ]
     },
     "metadata": {},
     "output_type": "display_data"
    }
   ],
   "source": [
    "import numpy as np\n",
    "import gpflow\n",
    "from gpflow.models import GPR\n",
    "from gpflow.kernels import SquaredExponential\n",
    "from gpflow.optimizers import Scipy\n",
    "import tensorflow as tf\n",
    "from tensorflow.keras.losses import mean_squared_error\n",
    "import matplotlib.pyplot as plt\n",
    "\n",
    "# Step 1: Load and prepare your data\n",
    "N_samples = 100\n",
    "input_dim = 10\n",
    "\n",
    "# Replace with your actual data\n",
    "X = np.random.uniform(-1, 1, size=(N_samples, input_dim))\n",
    "Y = np.sum(np.sin(X), axis=1, keepdims=True) + np.random.normal(0, 0.1, size=(N_samples, 1))\n",
    "\n",
    "# Step 2: Normalize the data using TensorFlow\n",
    "X_min, X_max = tf.reduce_min(X, axis=0), tf.reduce_max(X, axis=0)\n",
    "X_normalized = (X - X_min) / (X_max - X_min)\n",
    "\n",
    "Y_mean, Y_std = tf.reduce_mean(Y, axis=0), tf.math.reduce_std(Y, axis=0)\n",
    "Y_normalized = (Y - Y_mean) / Y_std\n",
    "\n",
    "# Step 3: Define the GPflow model\n",
    "kernel = SquaredExponential(lengthscales=np.ones(input_dim))\n",
    "gp_model = GPR(data=(X_normalized, Y_normalized), kernel=kernel, mean_function=None)\n",
    "\n",
    "# Step 4: Optimize the GPflow model\n",
    "optimizer = Scipy()\n",
    "\n",
    "@tf.function\n",
    "def objective_closure():\n",
    "    return gp_model.training_loss()\n",
    "\n",
    "optimizer.minimize(objective_closure, variables=gp_model.trainable_variables, options=dict(maxiter=100))\n",
    "\n",
    "# Step 5: Make predictions\n",
    "mean, variance = gp_model.predict_f(X_normalized)\n",
    "\n",
    "# Denormalize predictions\n",
    "Y_pred = mean * Y_std + Y_mean\n",
    "\n",
    "\n",
    "# Step 6: Evaluate the model\n",
    "mse = mean_squared_error(Y, Y_pred)\n",
    "print(f\"Mean Squared Error on training data: {mse}\")\n",
    "\n",
    "# Step 7: Visualize the results\n",
    "plt.figure(figsize=(8,6))\n",
    "plt.scatter(Y, Y_pred, c='blue', label='Predictions')\n",
    "plt.plot(Y, Y, 'r--', label='Ideal')\n",
    "plt.xlabel('True Y')\n",
    "plt.ylabel('Predicted Y')\n",
    "plt.title('True vs Predicted Outputs')\n",
    "plt.legend()\n",
    "plt.show()\n"
   ]
  },
  {
   "cell_type": "code",
   "execution_count": 2,
   "metadata": {},
   "outputs": [
    {
     "name": "stderr",
     "output_type": "stream",
     "text": [
      "11/11/2024 05:05:45 PM Total snapshots: 200\n",
      "11/11/2024 05:05:45 PM Total snapshots: 200\n",
      "11/11/2024 05:05:45 PM Orignal corr shape (100, 65, 5)\n",
      "11/11/2024 05:05:45 PM Orignal corr shape (100, 65, 5)\n",
      "11/11/2024 05:05:45 PM Found 12.0 % of W(r_p, Pi) as nan\n",
      "11/11/2024 05:05:45 PM Found 12.0 % of W(r_p, Pi) as nan\n",
      "11/11/2024 05:05:45 PM Orignal corr shape (100, 65, 5)\n",
      "11/11/2024 05:05:45 PM Orignal corr shape (100, 65, 5)\n"
     ]
    },
    {
     "data": {
      "image/png": "[encoded data removed]",
      "text/plain": [
       "<Figure size 640x480 with 1 Axes>"
      ]
     },
     "metadata": {},
     "output_type": "display_data"
    }
   ],
   "source": [
    "import importlib\n",
    "import summary_stats\n",
    "import single_fid\n",
    "import h5py\n",
    "import numpy as np\n",
    "import matplotlib.pyplot as plt\n",
    "importlib.reload(summary_stats)\n",
    "importlib.reload(single_fid)\n",
    "proj = summary_stats.ProjCorr(data_dir='/home/qezlou/HD2/HETDEX/cosmo/data/corr_projected/', fid='L2')\n",
    "proj.find_nan_log10_bins()\n",
    "_, wp, _ = proj.get_wp(r_range=(0,10))"
   ]
  },
  {
   "cell_type": "code",
   "execution_count": 37,
   "metadata": {},
   "outputs": [
    {
     "name": "stdout",
     "output_type": "stream",
     "text": [
      "(200, 65) (array([], dtype=int64), array([], dtype=int64))\n"
     ]
    }
   ],
   "source": [
    "print(Y.shape, np.where(Y[:199]==0))"
   ]
  },
  {
   "cell_type": "code",
   "execution_count": 42,
   "metadata": {},
   "outputs": [
    {
     "name": "stdout",
     "output_type": "stream",
     "text": [
      "<KeysViewHDF5 ['corr', 'r', 'seeds']>\n",
      "[[[ 1.40721189e+03  1.15574548e+03  7.03105943e+02  3.51052972e+02\n",
      "    2.00173127e+02]\n",
      "  [ 4.14234796e+02  1.83548798e+02  2.29685998e+02  1.37411599e+02\n",
      "    4.51371996e+01]\n",
      "  [ 6.01354804e+01  2.25136463e+01  2.72163756e+01  8.40545852e+00\n",
      "    3.70272926e+00]\n",
      "  ...\n",
      "  [ 1.60414043e-02 -2.38516416e-02 -3.37017764e-02 -5.62889227e-03\n",
      "   -4.79844719e-02]\n",
      "  [ 5.94483594e-02 -3.95766118e-03 -1.72066804e-02  5.03274473e-03\n",
      "    3.14002770e-03]\n",
      "  [ 4.24212958e-02 -5.76739033e-03 -8.04044156e-03 -2.12241387e-02\n",
      "   -9.40427230e-03]]\n",
      "\n",
      " [[ 2.37543607e+03  1.30846477e+03  1.11446999e+03  6.77981733e+02\n",
      "    2.89992171e+02]\n",
      "  [ 4.58739426e+02  3.99418210e+02  2.36284865e+02  2.06624257e+02\n",
      "    1.17642433e+02]\n",
      "  [ 5.79540180e+01  3.52793957e+01  4.43492446e+01  3.07444712e+01\n",
      "    3.07444712e+01]\n",
      "  ...\n",
      "  [ 4.01030579e-02  3.91531921e-02 -2.82872801e-02 -3.25616763e-02\n",
      "   -2.87622130e-02]\n",
      "  [ 3.03142752e-02 -1.02959863e-02  5.67434123e-03 -1.98781829e-02\n",
      "   -3.90785531e-03]\n",
      "  [ 2.53910500e-02 -1.45023170e-02  1.31161678e-02  2.62678273e-02\n",
      "    4.78678352e-03]]\n",
      "\n",
      " [[ 1.66802469e+03  1.90645679e+03  6.18923456e+02  3.80491357e+02\n",
      "    1.42059259e+02]\n",
      "  [ 4.80203367e+02  3.34384165e+02  1.44819202e+02  5.73276809e+01\n",
      "    5.73276809e+01]\n",
      "  [ 3.91307456e+01  3.91307456e+01  3.46717738e+01  7.91794346e+00\n",
      "    1.23769152e+01]\n",
      "  ...\n",
      "  [ 1.14755110e-02 -2.35478793e-02 -8.37881105e-02 -2.35478793e-02\n",
      "   -4.22270207e-02]\n",
      "  [ 1.75446882e-02  1.03662424e-02  4.98240810e-03 -2.41800278e-02\n",
      "   -2.14881107e-02]\n",
      "  [ 1.25278540e-02 -1.41970191e-02  3.90692718e-03 -1.98006216e-02\n",
      "   -3.23009654e-02]]\n",
      "\n",
      " ...\n",
      "\n",
      " [[ 1.76433635e+03  1.51915075e+03  4.89371208e+02  4.89371208e+02\n",
      "    4.80371208e+01]\n",
      "  [ 2.98898960e+02  3.43883804e+02  2.08929272e+02  1.63944428e+02\n",
      "    4.39848440e+01]\n",
      "  [ 6.77790582e+01  3.10968938e+01  2.19263527e+01  1.73410822e+01\n",
      "    3.58527055e+00]\n",
      "  ...\n",
      "  [ 1.37138964e-02  5.55040225e-03 -5.73565236e-02 -2.85441911e-02\n",
      "   -5.39950848e-02]\n",
      "  [ 3.11413794e-02  4.38245326e-03  1.77619163e-02 -1.86855866e-02\n",
      "   -1.17651746e-02]\n",
      "  [ 9.73620542e-03  4.27838289e-04  6.63341637e-03 -4.34544639e-02\n",
      "   -1.77456404e-02]]\n",
      "\n",
      " [[ 2.34505355e+03  1.31865512e+03  7.81017849e+02  2.92256693e+02\n",
      "    1.94504462e+02]\n",
      "  [ 3.42751435e+02  3.42751435e+02  1.78348575e+02  1.18565717e+02\n",
      "   -1.00000000e+00]\n",
      "  [ 8.12638802e+01  4.47021557e+01  4.01319401e+01  3.57021557e+00\n",
      "    3.57021557e+00]\n",
      "  ...\n",
      "  [-1.49817956e-02 -1.58018735e-03  7.99238995e-03 -4.13063832e-02\n",
      "   -7.43317748e-02]\n",
      "  [ 3.18944110e-02 -1.77689564e-02  2.91353350e-02  1.71793391e-02\n",
      "    1.57998012e-02]\n",
      "  [ 3.16035159e-02  1.61405082e-02  2.88650158e-03  2.44470136e-03\n",
      "   -9.92570483e-03]]\n",
      "\n",
      " [[ 1.65979552e+03  1.22017318e+03  8.78244687e+02  6.34010052e+02\n",
      "    2.92081562e+02]\n",
      "  [ 3.57482938e+02  2.67862204e+02  4.38103673e+01  1.33431102e+02\n",
      "    7.36839455e+01]\n",
      "  [ 4.92423489e+01  4.46748627e+01  3.55398901e+01  8.13497253e+00\n",
      "    2.18374313e+01]\n",
      "  ...\n",
      "  [ 3.56367953e-03  1.26521971e-02 -1.12649544e-02 -6.24476588e-02\n",
      "   -4.14005654e-02]\n",
      "  [ 3.63334558e-02  6.92088766e-03 -1.28406816e-02 -1.55981098e-02\n",
      "   -2.47895374e-02]\n",
      "  [ 3.09874494e-02 -2.24384527e-02  1.68582852e-02  1.40451184e-03\n",
      "   -9.63389768e-03]]]\n"
     ]
    }
   ],
   "source": [
    "with h5py.File(proj.data_files[199], 'r') as f:\n",
    "    print(f.keys())\n",
    "    print(f['corr'][:])"
   ]
  },
  {
   "cell_type": "code",
   "execution_count": null,
   "metadata": {},
   "outputs": [],
   "source": []
  }
 ],
 "metadata": {
  "kernelspec": {
   "display_name": "het-cosmo",
   "language": "python",
   "name": "python3"
  },
  "language_info": {
   "codemirror_mode": {
    "name": "ipython",
    "version": 3
   },
   "file_extension": ".py",
   "mimetype": "text/x-python",
   "name": "python",
   "nbconvert_exporter": "python",
   "pygments_lexer": "ipython3",
   "version": "3.8.19"
  }
 },
 "nbformat": 4,
 "nbformat_minor": 2
}
